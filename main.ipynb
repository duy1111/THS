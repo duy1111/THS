{
  "cells": [
    {
      "cell_type": "code",
      "execution_count": 85,
      "metadata": {},
      "outputs": [],
      "source": [
        "from utils import read_lab_file, read_wav_file, split_audio, split_frame, BinarySearch"
      ]
    },
    {
      "cell_type": "code",
      "execution_count": 86,
      "metadata": {},
      "outputs": [],
      "source": [
        "sample_rate, signal = read_wav_file(\"./TinHieuHuanLuyen/44MTT.wav\")"
      ]
    },
    {
      "cell_type": "code",
      "execution_count": 87,
      "metadata": {},
      "outputs": [
        {
          "data": {
            "text/plain": [
              "44100"
            ]
          },
          "execution_count": 87,
          "metadata": {},
          "output_type": "execute_result"
        }
      ],
      "source": [
        "sample_rate"
      ]
    },
    {
      "cell_type": "code",
      "execution_count": 88,
      "metadata": {},
      "outputs": [
        {
          "data": {
            "text/plain": [
              "array([-36, -34,  -6, ..., -14, -11,   0], dtype=int16)"
            ]
          },
          "execution_count": 88,
          "metadata": {},
          "output_type": "execute_result"
        }
      ],
      "source": [
        "signal"
      ]
    },
    {
      "cell_type": "code",
      "execution_count": 89,
      "metadata": {},
      "outputs": [],
      "source": [
        "lab_files = read_lab_file(\"./TinHieuHuanLuyen/\")"
      ]
    },
    {
      "cell_type": "code",
      "execution_count": 90,
      "metadata": {},
      "outputs": [
        {
          "data": {
            "text/plain": [
              "['42FQT.lab', '44MTT.lab', '45MDV.lab', '30FTN.lab']"
            ]
          },
          "execution_count": 90,
          "metadata": {},
          "output_type": "execute_result"
        }
      ],
      "source": [
        "lab_files"
      ]
    },
    {
      "cell_type": "code",
      "execution_count": 91,
      "metadata": {},
      "outputs": [
        {
          "data": {
            "text/plain": [
              "{'42FQT.lab': {'silence': [(0.0, 0.46),\n",
              "   (0.99, 1.56),\n",
              "   (2.13, 2.51),\n",
              "   (2.93, 3.79),\n",
              "   (4.38, 4.77),\n",
              "   (5.22, 5.79)],\n",
              "  'vowel': [(0.46, 0.99),\n",
              "   (1.56, 2.13),\n",
              "   (2.51, 2.93),\n",
              "   (3.79, 4.38),\n",
              "   (4.77, 5.22)]},\n",
              " '44MTT.lab': {'silence': [(0.0, 0.93),\n",
              "   (1.42, 2.59),\n",
              "   (3.0, 4.71),\n",
              "   (5.11, 6.26),\n",
              "   (6.66, 8.04),\n",
              "   (8.39, 9.27)],\n",
              "  'vowel': [(0.93, 1.42),\n",
              "   (2.59, 3.0),\n",
              "   (4.71, 5.11),\n",
              "   (6.26, 6.66),\n",
              "   (8.04, 8.39)]},\n",
              " '45MDV.lab': {'silence': [(0.0, 0.88),\n",
              "   (1.34, 2.35),\n",
              "   (2.82, 3.76),\n",
              "   (4.13, 5.04),\n",
              "   (5.5, 6.41),\n",
              "   (6.79, 7.42)],\n",
              "  'vowel': [(0.88, 1.34),\n",
              "   (2.35, 2.82),\n",
              "   (3.76, 4.13),\n",
              "   (5.04, 5.5),\n",
              "   (6.41, 6.79)]},\n",
              " '30FTN.lab': {'silence': [(0.97, 1.76),\n",
              "   (2.11, 3.44),\n",
              "   (3.77, 4.7),\n",
              "   (5.13, 5.96),\n",
              "   (6.28, 6.78)],\n",
              "  'vowel': [(0.59, 0.97),\n",
              "   (1.76, 2.11),\n",
              "   (3.44, 3.77),\n",
              "   (4.7, 5.13),\n",
              "   (5.96, 6.28)]}}"
            ]
          },
          "execution_count": 91,
          "metadata": {},
          "output_type": "execute_result"
        }
      ],
      "source": [
        "segmented_values = split_audio(\"./TinHieuHuanLuyen/\", lab_files)\n",
        "segmented_values"
      ]
    },
    {
      "cell_type": "code",
      "execution_count": 92,
      "metadata": {},
      "outputs": [
        {
          "name": "stdout",
          "output_type": "stream",
          "text": [
            "0.0\n",
            "0.93\n"
          ]
        }
      ],
      "source": [
        "start = segmented_values[\"44MTT.lab\"][\"silence\"][0][0]\n",
        "end = segmented_values[\"44MTT.lab\"][\"silence\"][0][1]\n",
        "\n",
        "print(start)\n",
        "print(end)"
      ]
    },
    {
      "cell_type": "code",
      "execution_count": 93,
      "metadata": {},
      "outputs": [],
      "source": [
        "frames = split_frame(signal, sample_rate, 0.3, start, end)"
      ]
    },
    {
      "cell_type": "code",
      "execution_count": 94,
      "metadata": {},
      "outputs": [
        {
          "data": {
            "text/plain": [
              "[array([-36, -34,  -6, ..., -34, -25, -14], dtype=int16),\n",
              " array([-4,  0,  7, ..., 18,  8,  0], dtype=int16),\n",
              " array([ -2,  -1,   4, ..., -36, -10,   7], dtype=int16),\n",
              " array([   26,    32,    45, ..., -4517, -4948, -5221], dtype=int16)]"
            ]
          },
          "execution_count": 94,
          "metadata": {},
          "output_type": "execute_result"
        }
      ],
      "source": [
        "frames"
      ]
    },
    {
      "attachments": {},
      "cell_type": "markdown",
      "metadata": {},
      "source": [
        "**STE**"
      ]
    },
    {
      "cell_type": "code",
      "execution_count": 95,
      "metadata": {},
      "outputs": [],
      "source": [
        "from feature_extractor import FeatureExtractor"
      ]
    },
    {
      "cell_type": "code",
      "execution_count": 96,
      "metadata": {},
      "outputs": [],
      "source": [
        "extractor = FeatureExtractor()"
      ]
    },
    {
      "attachments": {},
      "cell_type": "markdown",
      "metadata": {},
      "source": [
        "**Silence**"
      ]
    },
    {
      "cell_type": "code",
      "execution_count": 97,
      "metadata": {},
      "outputs": [],
      "source": [
        "silence_ste = []\n",
        "for key in segmented_values:\n",
        "    silence_frames = []\n",
        "    for i in range(len(segmented_values[key][\"silence\"])):\n",
        "        start = segmented_values[key][\"silence\"][i][0]\n",
        "        end = segmented_values[key][\"silence\"][i][1]\n",
        "        frames = split_frame(signal, sample_rate, 0.03, start, end)\n",
        "        for frame in frames:\n",
        "            silence_frames.append(frame)\n",
        "    silence_ste.append(extractor.ste(silence_frames))"
      ]
    },
    {
      "cell_type": "code",
      "execution_count": 98,
      "metadata": {},
      "outputs": [],
      "source": [
        "silence_ste = []\n",
        "for key in segmented_values:\n",
        "    silence_frames = []\n",
        "    for i in range(len(segmented_values[key][\"silence\"])):\n",
        "        start = segmented_values[key][\"silence\"][i][0]\n",
        "        end = segmented_values[key][\"silence\"][i][1]\n",
        "        frames = split_frame(signal, sample_rate, 0.03, start, end)\n",
        "        for frame in frames:\n",
        "            silence_frames.append(frame)\n",
        "    silence_ste.append(extractor.ste(silence_frames))"
      ]
    },
    {
      "cell_type": "code",
      "execution_count": 99,
      "metadata": {},
      "outputs": [
        {
          "data": {
            "text/plain": [
              "[0.4124300903630899,\n",
              " 0.4886295276526551,\n",
              " 0.3923269070945693,\n",
              " 0.38080029898507095]"
            ]
          },
          "execution_count": 99,
          "metadata": {},
          "output_type": "execute_result"
        }
      ],
      "source": [
        "silence_ste"
      ]
    },
    {
      "attachments": {},
      "cell_type": "markdown",
      "metadata": {},
      "source": [
        "**ZCR**"
      ]
    },
    {
      "attachments": {},
      "cell_type": "markdown",
      "metadata": {},
      "source": [
        "**Silence**"
      ]
    },
    {
      "cell_type": "code",
      "execution_count": 100,
      "metadata": {},
      "outputs": [],
      "source": [
        "silence_zcr = []\n",
        "for key in segmented_values:\n",
        "    silence_frames = []\n",
        "    for i in range(len(segmented_values[key][\"silence\"])):\n",
        "        start = segmented_values[key][\"silence\"][i][0]\n",
        "        end = segmented_values[key][\"silence\"][i][1]\n",
        "        frames = split_frame(signal, sample_rate, 0.03, start, end)\n",
        "        for frame in frames:\n",
        "            silence_frames.append(frame)\n",
        "    silence_zcr.append(extractor.zcr(silence_frames))"
      ]
    },
    {
      "cell_type": "code",
      "execution_count": 101,
      "metadata": {},
      "outputs": [
        {
          "data": {
            "text/plain": [
              "[0.5781484570475397,\n",
              " 0.5660781367392937,\n",
              " 0.6509243794275182,\n",
              " 0.6231660231660232]"
            ]
          },
          "execution_count": 101,
          "metadata": {},
          "output_type": "execute_result"
        }
      ],
      "source": [
        "silence_zcr"
      ]
    },
    {
      "attachments": {},
      "cell_type": "markdown",
      "metadata": {},
      "source": [
        "**MA**"
      ]
    },
    {
      "cell_type": "code",
      "execution_count": 102,
      "metadata": {},
      "outputs": [],
      "source": [
        "silence_ma = []\n",
        "for key in segmented_values:\n",
        "    silence_frames = []\n",
        "    for i in range(len(segmented_values[key][\"silence\"])):\n",
        "        start = segmented_values[key][\"silence\"][i][0]\n",
        "        end = segmented_values[key][\"silence\"][i][1]\n",
        "        frames = split_frame(signal, sample_rate, 0.03, start, end)\n",
        "        for frame in frames:\n",
        "            silence_frames.append(frame)\n",
        "    silence_ma.append(extractor.ma(silence_frames,is_statistic= True))"
      ]
    },
    {
      "cell_type": "code",
      "execution_count": 103,
      "metadata": {},
      "outputs": [
        {
          "data": {
            "text/plain": [
              "[0.09871903217499813,\n",
              " 0.16590853755624008,\n",
              " 0.08885593289944024,\n",
              " 0.1503090274210585]"
            ]
          },
          "execution_count": 103,
          "metadata": {},
          "output_type": "execute_result"
        }
      ],
      "source": [
        "silence_ma"
      ]
    },
    {
      "cell_type": "code",
      "execution_count": null,
      "metadata": {},
      "outputs": [],
      "source": []
    },
    {
      "attachments": {},
      "cell_type": "markdown",
      "metadata": {},
      "source": [
        "**vowel**"
      ]
    },
    {
      "attachments": {},
      "cell_type": "markdown",
      "metadata": {},
      "source": [
        "**ste**\n",
        "\n"
      ]
    },
    {
      "cell_type": "code",
      "execution_count": 104,
      "metadata": {},
      "outputs": [
        {
          "data": {
            "text/plain": [
              "[0.4338125864650781,\n",
              " 0.19523467198225866,\n",
              " 0.4040037007553553,\n",
              " 0.3561229155538656]"
            ]
          },
          "execution_count": 104,
          "metadata": {},
          "output_type": "execute_result"
        }
      ],
      "source": [
        "vowel_ste = []\n",
        "for key in segmented_values:\n",
        "    silence_frames = []\n",
        "    for i in range(len(segmented_values[key][\"vowel\"])):\n",
        "        start = segmented_values[key][\"vowel\"][i][0]\n",
        "        end = segmented_values[key][\"vowel\"][i][1]\n",
        "        frames = split_frame(signal, sample_rate, 0.03, start, end)\n",
        "        for frame in frames:\n",
        "            silence_frames.append(frame)\n",
        "    vowel_ste.append(extractor.ste(silence_frames))\n",
        "\n",
        "vowel_ste\n",
        "    "
      ]
    },
    {
      "cell_type": "code",
      "execution_count": null,
      "metadata": {},
      "outputs": [],
      "source": []
    },
    {
      "attachments": {},
      "cell_type": "markdown",
      "metadata": {},
      "source": [
        "**zcr**"
      ]
    },
    {
      "cell_type": "code",
      "execution_count": 105,
      "metadata": {},
      "outputs": [
        {
          "data": {
            "text/plain": [
              "[0.5847493627867458, 0.5867203219315895, 0.6144144144144144, 0.62869623655914]"
            ]
          },
          "execution_count": 105,
          "metadata": {},
          "output_type": "execute_result"
        }
      ],
      "source": [
        "vowel_zcr = []\n",
        "for key in segmented_values:\n",
        "    silence_frames = []\n",
        "    for i in range(len(segmented_values[key][\"vowel\"])):\n",
        "        start = segmented_values[key][\"vowel\"][i][0]\n",
        "        end = segmented_values[key][\"vowel\"][i][1]\n",
        "        frames = split_frame(signal, sample_rate, 0.03, start, end)\n",
        "        for frame in frames:\n",
        "            silence_frames.append(frame)\n",
        "    vowel_zcr.append(extractor.zcr(silence_frames))\n",
        "\n",
        "vowel_zcr"
      ]
    },
    {
      "attachments": {},
      "cell_type": "markdown",
      "metadata": {},
      "source": [
        "**Ma**"
      ]
    },
    {
      "cell_type": "code",
      "execution_count": 106,
      "metadata": {},
      "outputs": [
        {
          "data": {
            "text/plain": [
              "[0.1999806231263597,\n",
              " 0.4599600713009592,\n",
              " 0.23022254435115735,\n",
              " 0.18561159138738811]"
            ]
          },
          "execution_count": 106,
          "metadata": {},
          "output_type": "execute_result"
        }
      ],
      "source": [
        "vowel_ma = []\n",
        "for key in segmented_values:\n",
        "    silence_frames = []\n",
        "    for i in range(len(segmented_values[key][\"vowel\"])):\n",
        "        start = segmented_values[key][\"vowel\"][i][0]\n",
        "        end = segmented_values[key][\"vowel\"][i][1]\n",
        "        frames = split_frame(signal, sample_rate, 0.03, start, end)\n",
        "        for frame in frames:\n",
        "            silence_frames.append(frame)\n",
        "    vowel_ma.append(extractor.ma(silence_frames, is_statistic = True))\n",
        "\n",
        "vowel_ma"
      ]
    },
    {
      "cell_type": "code",
      "execution_count": 110,
      "metadata": {},
      "outputs": [
        {
          "ename": "ModuleNotFoundError",
          "evalue": "No module named 'pandas'",
          "output_type": "error",
          "traceback": [
            "\u001b[0;31m---------------------------------------------------------------------------\u001b[0m",
            "\u001b[0;31mModuleNotFoundError\u001b[0m                       Traceback (most recent call last)",
            "Cell \u001b[0;32mIn[110], line 1\u001b[0m\n\u001b[0;32m----> 1\u001b[0m \u001b[39mimport\u001b[39;00m \u001b[39mpandas\u001b[39;00m \u001b[39mas\u001b[39;00m \u001b[39mpb\u001b[39;00m\n",
            "\u001b[0;31mModuleNotFoundError\u001b[0m: No module named 'pandas'"
          ]
        }
      ],
      "source": [
        "import pandas as pb"
      ]
    },
    {
      "cell_type": "code",
      "execution_count": 108,
      "metadata": {},
      "outputs": [
        {
          "ename": "NameError",
          "evalue": "name 'pd' is not defined",
          "output_type": "error",
          "traceback": [
            "\u001b[0;31m---------------------------------------------------------------------------\u001b[0m",
            "\u001b[0;31mNameError\u001b[0m                                 Traceback (most recent call last)",
            "Cell \u001b[0;32mIn[108], line 5\u001b[0m\n\u001b[1;32m      2\u001b[0m ste[\u001b[39m\"\u001b[39m\u001b[39msilence\u001b[39m\u001b[39m\"\u001b[39m] \u001b[39m=\u001b[39m silence_ste\n\u001b[1;32m      3\u001b[0m ste[\u001b[39m\"\u001b[39m\u001b[39mvowel\u001b[39m\u001b[39m\"\u001b[39m] \u001b[39m=\u001b[39m vowel_ste\n\u001b[0;32m----> 5\u001b[0m ste_df \u001b[39m=\u001b[39m pd\u001b[39m.\u001b[39mDataFrame(ste)\n\u001b[1;32m      6\u001b[0m ste_df\u001b[39m.\u001b[39mto_csv(\u001b[39m\"\u001b[39m\u001b[39m./Ste.csv\u001b[39m\u001b[39m\"\u001b[39m, index\u001b[39m=\u001b[39m\u001b[39mFalse\u001b[39;00m)\n",
            "\u001b[0;31mNameError\u001b[0m: name 'pd' is not defined"
          ]
        }
      ],
      "source": [
        "ste = {\"silence\": [], \"vowel\" : []}\n",
        "ste[\"silence\"] = silence_ste\n",
        "ste[\"vowel\"] = vowel_ste\n",
        "\n",
        "ste_df = pd.DataFrame(ste)\n",
        "ste_df.to_csv(\"./Ste.csv\", index=False)"
      ]
    },
    {
      "cell_type": "code",
      "execution_count": null,
      "metadata": {},
      "outputs": [],
      "source": [
        "zcr = {\"silence\": [], \"vowel\" : []}\n",
        "zcr[\"silence\"] = silence_zcr\n",
        "zcr[\"vowel\"] = vowel_zcr\n",
        "\n",
        "zcr_df = pd.DataFrame(zcr)\n",
        "zcr_df.to_csv(\"./Zcr.csv\", index=False)"
      ]
    },
    {
      "cell_type": "code",
      "execution_count": null,
      "metadata": {},
      "outputs": [],
      "source": [
        "ma = {\"silence\": [], \"vowel\" : []}\n",
        "ma[\"silence\"] = silence_ma\n",
        "ma[\"vowel\"] = vowel_ma\n",
        "\n",
        "ma_df = pd.DataFrame(ma)\n",
        "ma_df.to_csv(\"./Ma.csv\", index=False)"
      ]
    },
    {
      "cell_type": "code",
      "execution_count": null,
      "metadata": {},
      "outputs": [],
      "source": [
        "threshold = BinarySearch(min(silence_ma), max(vowel_ma), silence_ma, vowel_ma)"
      ]
    },
    {
      "cell_type": "code",
      "execution_count": null,
      "metadata": {},
      "outputs": [
        {
          "data": {
            "text/plain": [
              "0.18163196749981997"
            ]
          },
          "execution_count": 30,
          "metadata": {},
          "output_type": "execute_result"
        }
      ],
      "source": [
        "threshold"
      ]
    },
    {
      "cell_type": "code",
      "execution_count": null,
      "metadata": {},
      "outputs": [],
      "source": [
        "import matplotlib.pyplot as plt\n",
        "import numpy as np"
      ]
    },
    {
      "cell_type": "code",
      "execution_count": null,
      "metadata": {},
      "outputs": [],
      "source": [
        "sample_rate, signal = read_wav_file('./TinHieuHuanLuyen/30FTN.wav')"
      ]
    },
    {
      "cell_type": "code",
      "execution_count": null,
      "metadata": {},
      "outputs": [
        {
          "data": {
            "text/plain": [
              "[<matplotlib.lines.Line2D at 0x156e78df0>]"
            ]
          },
          "execution_count": 34,
          "metadata": {},
          "output_type": "execute_result"
        },
        {
          "data": {
            "image/png": "[encoded data removed]",
            "text/plain": [
              "<Figure size 640x480 with 1 Axes>"
            ]
          },
          "metadata": {},
          "output_type": "display_data"
        }
      ],
      "source": [
        "plt.plot(np.arange(len(signal)), signal)"
      ]
    },
    {
      "cell_type": "code",
      "execution_count": null,
      "metadata": {},
      "outputs": [
        {
          "data": {
            "text/plain": [
              "299037"
            ]
          },
          "execution_count": 35,
          "metadata": {},
          "output_type": "execute_result"
        }
      ],
      "source": [
        "len(signal)"
      ]
    },
    {
      "cell_type": "code",
      "execution_count": null,
      "metadata": {},
      "outputs": [
        {
          "data": {
            "text/plain": [
              "1323.0"
            ]
          },
          "execution_count": 36,
          "metadata": {},
          "output_type": "execute_result"
        }
      ],
      "source": [
        "0.03 * sample_rate"
      ]
    },
    {
      "cell_type": "code",
      "execution_count": null,
      "metadata": {},
      "outputs": [
        {
          "data": {
            "text/plain": [
              "226.02947845804988"
            ]
          },
          "execution_count": 37,
          "metadata": {},
          "output_type": "execute_result"
        }
      ],
      "source": [
        "len(signal) / (0.03 * sample_rate)"
      ]
    },
    {
      "cell_type": "code",
      "execution_count": null,
      "metadata": {},
      "outputs": [],
      "source": []
    }
  ],
  "metadata": {
    "kernelspec": {
      "display_name": "Python 3",
      "language": "python",
      "name": "python3"
    },
    "language_info": {
      "codemirror_mode": {
        "name": "ipython",
        "version": 3
      },
      "file_extension": ".py",
      "mimetype": "text/x-python",
      "name": "python",
      "nbconvert_exporter": "python",
      "pygments_lexer": "ipython3",
      "version": "3.10.6"
    },
    "orig_nbformat": 4
  },
  "nbformat": 4,
  "nbformat_minor": 2
}
